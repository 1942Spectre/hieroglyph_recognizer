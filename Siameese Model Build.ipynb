{
 "cells": [
  {
   "cell_type": "code",
   "execution_count": 1,
   "metadata": {},
   "outputs": [],
   "source": [
    "import tensorflow as tf\n",
    "from tensorflow.keras.models import Model,Sequential,load_model\n",
    "from tensorflow.keras.layers import Activation,Input,Lambda,Conv2D,MaxPool2D,Dense,Flatten,BatchNormalization"
   ]
  },
  {
   "cell_type": "code",
   "execution_count": 2,
   "metadata": {},
   "outputs": [],
   "source": [
    "import os"
   ]
  },
  {
   "cell_type": "code",
   "execution_count": 3,
   "metadata": {},
   "outputs": [],
   "source": [
    "import numpy as np"
   ]
  },
  {
   "cell_type": "code",
   "execution_count": 4,
   "metadata": {},
   "outputs": [],
   "source": [
    "import matplotlib.pyplot as plt\n",
    "from PIL import Image"
   ]
  },
  {
   "cell_type": "code",
   "execution_count": 5,
   "metadata": {},
   "outputs": [],
   "source": [
    "import pydot"
   ]
  },
  {
   "cell_type": "code",
   "execution_count": 6,
   "metadata": {},
   "outputs": [],
   "source": [
    "def build_model(input_size = (224,224)):\n",
    "    \n",
    "    vgg_19 = load_model(\"vgg-19.h5\")\n",
    "    \n",
    "    linput = Input(shape = (input_size[0], input_size[1], 3))\n",
    "    rinput = Input(shape = (input_size[0], input_size[1], 3))\n",
    "    \n",
    "\n",
    "    r = vgg_19.layers[1](rinput)\n",
    "    r = vgg_19.layers[2](r)\n",
    "    r = vgg_19.layers[3](r)\n",
    "    r = vgg_19.layers[4](r)\n",
    "    r = vgg_19.layers[5](r)\n",
    "    r = vgg_19.layers[6](r)\n",
    "    \n",
    "    l = vgg_19.layers[1](linput)\n",
    "    l = vgg_19.layers[2](l)\n",
    "    l = vgg_19.layers[3](l)\n",
    "    l = vgg_19.layers[4](l)\n",
    "    l = vgg_19.layers[5](l)\n",
    "    l = vgg_19.layers[6](l)\n",
    "    \n",
    "    dist = Lambda((lambda tensors:tf.abs(tensors[0] - tensors[1])))([r,l])\n",
    "    \n",
    "    classifier = Flatten()(dist)\n",
    "    \n",
    "    classifier = Dense(256 , activation = \"relu\")(classifier)\n",
    "    classifier = Dense(128 , activation = \"relu\")(classifier)\n",
    "    classifier = Dense(64 , activation = \"relu\")(classifier)\n",
    "    classifier = Dense(32 , activation = \"relu\")(classifier)\n",
    "    classifier = Dense(1 , activation = \"sigmoid\")(classifier)\n",
    "    \n",
    "    model = Model(inputs = (linput,rinput) , outputs = (classifier) )\n",
    "    \n",
    "    model.layers[2].trainable = False\n",
    "    model.layers[3].trainable = False\n",
    "    model.layers[4].trainable = False\n",
    "    \n",
    "    model.compile(optimizer = tf.keras.optimizers.Adam() , loss = \"binary_crossentropy\" , metrics = [\"accuracy\"] )\n",
    "    \n",
    "    \n",
    "    return model\n",
    "    "
   ]
  },
  {
   "cell_type": "code",
   "execution_count": 7,
   "metadata": {},
   "outputs": [
    {
     "name": "stdout",
     "output_type": "stream",
     "text": [
      "WARNING:tensorflow:No training configuration found in save file: the model was *not* compiled. Compile it manually.\n"
     ]
    }
   ],
   "source": [
    "model = build_model(input_size=(224,224))"
   ]
  },
  {
   "cell_type": "code",
   "execution_count": 8,
   "metadata": {},
   "outputs": [
    {
     "name": "stdout",
     "output_type": "stream",
     "text": [
      "Model: \"model\"\n",
      "__________________________________________________________________________________________________\n",
      "Layer (type)                    Output Shape         Param #     Connected to                     \n",
      "==================================================================================================\n",
      "input_2 (InputLayer)            [(None, 224, 224, 3) 0                                            \n",
      "__________________________________________________________________________________________________\n",
      "input_1 (InputLayer)            [(None, 224, 224, 3) 0                                            \n",
      "__________________________________________________________________________________________________\n",
      "conv2d_44 (Conv2D)              (None, 224, 224, 64) 1792        input_2[0][0]                    \n",
      "                                                                 input_1[0][0]                    \n",
      "__________________________________________________________________________________________________\n",
      "conv2d_45 (Conv2D)              (None, 224, 224, 64) 36928       conv2d_44[1][0]                  \n",
      "                                                                 conv2d_44[2][0]                  \n",
      "__________________________________________________________________________________________________\n",
      "max_pooling2d_15 (MaxPooling2D) (None, 112, 112, 64) 0           conv2d_45[1][0]                  \n",
      "                                                                 conv2d_45[2][0]                  \n",
      "__________________________________________________________________________________________________\n",
      "conv2d_46 (Conv2D)              (None, 112, 112, 128 73856       max_pooling2d_15[1][0]           \n",
      "                                                                 max_pooling2d_15[2][0]           \n",
      "__________________________________________________________________________________________________\n",
      "conv2d_47 (Conv2D)              (None, 112, 112, 128 147584      conv2d_46[1][0]                  \n",
      "                                                                 conv2d_46[2][0]                  \n",
      "__________________________________________________________________________________________________\n",
      "max_pooling2d_16 (MaxPooling2D) (None, 56, 56, 128)  0           conv2d_47[1][0]                  \n",
      "                                                                 conv2d_47[2][0]                  \n",
      "__________________________________________________________________________________________________\n",
      "lambda (Lambda)                 (None, 56, 56, 128)  0           max_pooling2d_16[1][0]           \n",
      "                                                                 max_pooling2d_16[2][0]           \n",
      "__________________________________________________________________________________________________\n",
      "flatten (Flatten)               (None, 401408)       0           lambda[0][0]                     \n",
      "__________________________________________________________________________________________________\n",
      "dense (Dense)                   (None, 256)          102760704   flatten[0][0]                    \n",
      "__________________________________________________________________________________________________\n",
      "dense_1 (Dense)                 (None, 128)          32896       dense[0][0]                      \n",
      "__________________________________________________________________________________________________\n",
      "dense_2 (Dense)                 (None, 64)           8256        dense_1[0][0]                    \n",
      "__________________________________________________________________________________________________\n",
      "dense_3 (Dense)                 (None, 32)           2080        dense_2[0][0]                    \n",
      "__________________________________________________________________________________________________\n",
      "dense_4 (Dense)                 (None, 1)            33          dense_3[0][0]                    \n",
      "==================================================================================================\n",
      "Total params: 103,064,129\n",
      "Trainable params: 103,025,409\n",
      "Non-trainable params: 38,720\n",
      "__________________________________________________________________________________________________\n"
     ]
    }
   ],
   "source": [
    "model.summary()"
   ]
  },
  {
   "cell_type": "code",
   "execution_count": 9,
   "metadata": {},
   "outputs": [
    {
     "data": {
      "image/png": "[encoded data removed]",
      "text/plain": [
       "<IPython.core.display.Image object>"
      ]
     },
     "execution_count": 9,
     "metadata": {},
     "output_type": "execute_result"
    }
   ],
   "source": [
    "tf.keras.utils.plot_model(model)"
   ]
  },
  {
   "cell_type": "code",
   "execution_count": 10,
   "metadata": {},
   "outputs": [],
   "source": [
    "def get_images(directory,input_size):\n",
    "    \n",
    "    images = []\n",
    "    \n",
    "    for image in os.listdir(directory):\n",
    "        \n",
    "        \n",
    "        images.append(np.asarray(Image.fromarray(np.array(plt.imread(directory + \"/\" + image))).resize(input_size))/255)\n",
    "        \n",
    "    return np.array(images)"
   ]
  },
  {
   "cell_type": "code",
   "execution_count": 11,
   "metadata": {},
   "outputs": [],
   "source": [
    "images = get_images(\"EgyptImages/\",(224,224))"
   ]
  },
  {
   "cell_type": "code",
   "execution_count": 12,
   "metadata": {},
   "outputs": [
    {
     "data": {
      "text/plain": [
       "6"
      ]
     },
     "execution_count": 12,
     "metadata": {},
     "output_type": "execute_result"
    }
   ],
   "source": [
    "len(images)"
   ]
  },
  {
   "cell_type": "code",
   "execution_count": 13,
   "metadata": {},
   "outputs": [],
   "source": [
    "limages = images[0:3]"
   ]
  },
  {
   "cell_type": "code",
   "execution_count": 14,
   "metadata": {},
   "outputs": [],
   "source": [
    "rimages = images[3:]"
   ]
  },
  {
   "cell_type": "code",
   "execution_count": 15,
   "metadata": {},
   "outputs": [
    {
     "data": {
      "text/plain": [
       "array([[0.5736473 ],\n",
       "       [0.66300744],\n",
       "       [0.5870848 ]], dtype=float32)"
      ]
     },
     "execution_count": 15,
     "metadata": {},
     "output_type": "execute_result"
    }
   ],
   "source": [
    "model.predict((limages,rimages))"
   ]
  },
  {
   "cell_type": "code",
   "execution_count": 16,
   "metadata": {},
   "outputs": [],
   "source": [
    "model.save(\"siameese.h5\")"
   ]
  },
  {
   "cell_type": "code",
   "execution_count": null,
   "metadata": {},
   "outputs": [],
   "source": []
  }
 ],
 "metadata": {
  "kernelspec": {
   "display_name": "Python 3",
   "language": "python",
   "name": "python3"
  },
  "language_info": {
   "codemirror_mode": {
    "name": "ipython",
    "version": 3
   },
   "file_extension": ".py",
   "mimetype": "text/x-python",
   "name": "python",
   "nbconvert_exporter": "python",
   "pygments_lexer": "ipython3",
   "version": "3.7.0"
  }
 },
 "nbformat": 4,
 "nbformat_minor": 4
}
